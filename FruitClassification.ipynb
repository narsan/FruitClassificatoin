{
 "cells": [
  {
   "cell_type": "markdown",
   "metadata": {
    "pycharm": {
     "name": "#%% md\n"
    }
   },
   "source": [
    "#### Computational Intelligence Project\n",
    "#### Fruit Classification\n",
    "#### Narges Sodeifi\n",
    "# Step One: Reading Fruit Dataset\n"
   ]
  },
  {
   "cell_type": "code",
   "metadata": {
    "tags": [],
    "pycharm": {
     "name": "#%%\n"
    }
   },
   "source": [
    "import math\n",
    "\n",
    "from matplotlib import pyplot as plt\n",
    "import numpy as np\n",
    "import random\n",
    "import pickle\n",
    "from statistics import mean\n",
    "\n",
    "# loading training set features\n",
    "f = open(\"Datasets/train_set_features.pkl\", \"rb\")\n",
    "train_set_features2 = pickle.load(f)\n",
    "f.close()\n",
    "\n",
    "# reducing feature vector length\n",
    "features_STDs = np.std(a=train_set_features2, axis=0)\n",
    "train_set_features = train_set_features2[:, features_STDs > 52.3]\n",
    "\n",
    "# changing the range of data between 0 and 1\n",
    "train_set_features = np.divide(train_set_features, train_set_features.max())\n",
    "\n",
    "# loading training set labels\n",
    "f = open(\"Datasets/train_set_labels.pkl\", \"rb\")\n",
    "train_set_labels = pickle.load(f)\n",
    "f.close()\n",
    "\n",
    "# ------------\n",
    "# loading test set features\n",
    "f = open(\"Datasets/test_set_features.pkl\", \"rb\")\n",
    "test_set_features2 = pickle.load(f)\n",
    "f.close()\n",
    "\n",
    "# reducing feature vector length\n",
    "features_STDs = np.std(a=test_set_features2, axis=0)\n",
    "test_set_features = test_set_features2[:, features_STDs > 48]\n",
    "\n",
    "# changing the range of data between 0 and 1\n",
    "test_set_features = np.divide(test_set_features, test_set_features.max())\n",
    "\n",
    "# loading test set labels\n",
    "f = open(\"Datasets/test_set_labels.pkl\", \"rb\")\n",
    "test_set_labels = pickle.load(f)\n",
    "f.close()\n",
    "\n",
    "# ------------\n",
    "# preparing our training and test sets - joining datasets and lables\n",
    "train_set = []\n",
    "test_set = []\n",
    "\n",
    "for i in range(len(train_set_features)):\n",
    "    label = np.array([0, 0, 0, 0])\n",
    "    label[int(train_set_labels[i])] = 1\n",
    "    label = label.reshape(4, 1)\n",
    "    train_set.append((train_set_features[i].reshape(102, 1), label))\n",
    "\n",
    "for i in range(len(test_set_features)):\n",
    "    label = np.array([0, 0, 0, 0])\n",
    "    label[int(test_set_labels[i])] = 1\n",
    "    label = label.reshape(4, 1)\n",
    "    test_set.append((test_set_features[i].reshape(102, 1), label))\n",
    "\n",
    "# shuffle\n",
    "random.shuffle(train_set)\n",
    "random.shuffle(test_set)"
   ],
   "execution_count": 2,
   "outputs": []
  },
  {
   "cell_type": "markdown",
   "metadata": {},
   "source": [
    "# Needed Functions\n",
    "Useful functions that we need throughout this notebook."
   ]
  },
  {
   "cell_type": "code",
   "execution_count": 3,
   "metadata": {},
   "outputs": [],
   "source": [
    "def sigmoid(x):\n",
    "    return 1 / (1 + np.exp(-x))\n",
    "\n",
    "\n",
    "def derivative_sigmoid(x):\n",
    "    return sigmoid(x) * (1 - sigmoid(x))\n",
    "\n",
    "\n",
    "def feedforward(w, a, bias, activation_func):\n",
    "    z = (w @ a) + bias\n",
    "    if activation_func == 'sigmoid':\n",
    "        return sigmoid(z)\n",
    "\n",
    "\n",
    "def cost_calculator(dataset, w1, w2, w3, b1, b2, b3, c):\n",
    "    for trainData in dataset:\n",
    "        a_0 = trainData[0]\n",
    "        a_1 = feedforward(w1, a_0, b1, 'sigmoid')\n",
    "        a_2 = feedforward(w2, a_1, b2, 'sigmoid')\n",
    "        a_3 = feedforward(w3, a_2, b3, 'sigmoid')\n",
    "\n",
    "        for j in range(4):\n",
    "            c += np.power((a_3[j, 0] - trainData[1][j, 0]), 2)\n",
    "    c /= len(dataset)\n",
    "    total_costs.append(c)\n",
    "\n",
    "\n",
    "def calculate_accuracy(dataset, w1, w2, w3, b1, b2, b3, total_num):\n",
    "    correct_guesses = 0\n",
    "    for trainData in dataset:\n",
    "        a_0 = trainData[0]\n",
    "        a_1 = feedforward(w1, a_0, b1, 'sigmoid')\n",
    "        a_2 = feedforward(w2, a_1, b2, 'sigmoid')\n",
    "        a_3 = feedforward(w3, a_2, b3, 'sigmoid')\n",
    "\n",
    "        predicted_label = np.argmax(a_3, axis=0)\n",
    "        real_label = np.argmax(trainData[1], axis=0)\n",
    "\n",
    "        if predicted_label[0] == real_label[0]:\n",
    "            correct_guesses += 1\n",
    "    accuracy = (correct_guesses / total_num) * 100\n",
    "    return accuracy\n",
    "\n",
    "\n",
    "def initialize():\n",
    "    w1 = np.random.standard_normal(size=(150, 102))\n",
    "    b1 = np.zeros((150, 1))\n",
    "\n",
    "    w2 = np.random.standard_normal(size=(60, 150))\n",
    "    b2 = np.zeros((60, 1))\n",
    "\n",
    "    w3 = np.random.standard_normal(size=(4, 60))\n",
    "    b3 = np.zeros((4, 1))\n",
    "\n",
    "    w = [w1, w2, w3]\n",
    "    bias = [b1, b2, b3]\n",
    "\n",
    "    return w, bias"
   ]
  },
  {
   "cell_type": "markdown",
   "metadata": {},
   "source": [
    "# Step Two: Feedforward\n",
    "In this step we work with 200 sample. We allocate a k * n matrix for weights between layers in the implementation.<br/>\n",
    "n : number of neurons on the current layer <br>\n",
    "k : number of neurons on the next layer <br>\n",
    "Each row of our matrix W shows the weights of a single neuron on the following layer."
   ]
  },
  {
   "cell_type": "code",
   "execution_count": 3,
   "metadata": {
    "collapsed": false,
    "jupyter": {
     "outputs_hidden": false
    },
    "pycharm": {
     "name": "#%%\n"
    }
   },
   "outputs": [
    {
     "name": "stdout",
     "output_type": "stream",
     "text": [
      "Accuracy: 28.000000000000004\n"
     ]
    }
   ],
   "source": [
    "W_1 = np.random.normal(size=(150, 102))\n",
    "W_2 = np.random.normal(size=(60, 150))\n",
    "W_3 = np.random.normal(size=(4, 60))\n",
    "b_1 = np.zeros((150, 1))\n",
    "b_2 = np.zeros((60, 1))\n",
    "b_3 = np.zeros((4, 1))\n",
    "\n",
    "number_of_samples = 200\n",
    "train_sample_200 = random.sample(train_set, number_of_samples)\n",
    "print(f\"Accuracy: {calculate_accuracy(train_sample_200, W_1, W_2, W_3, b_1, b_2, b_3, number_of_samples)}\")"
   ]
  },
  {
   "cell_type": "markdown",
   "source": [
    "Accuracy is very low in this step, because we just feedforward the network and didn't back propagate.<br>\n",
    "Due to the fact that the learning process has not progressed, we anticipate an accuracy of roughly 25%."
   ],
   "metadata": {
    "collapsed": false,
    "pycharm": {
     "name": "#%% md\n"
    }
   }
  },
  {
   "cell_type": "markdown",
   "metadata": {},
   "source": [
    "# Step Three: Backpropagation\n"
   ]
  },
  {
   "cell_type": "markdown",
   "source": [
    "Setting learning rate, number of epochs and batch size"
   ],
   "metadata": {
    "collapsed": false
   }
  },
  {
   "cell_type": "code",
   "execution_count": 4,
   "outputs": [],
   "source": [
    "batch_size = 10\n",
    "learning_rate = 1\n",
    "number_of_epochs = 5"
   ],
   "metadata": {
    "collapsed": false,
    "pycharm": {
     "name": "#%%\n"
    }
   }
  },
  {
   "cell_type": "code",
   "execution_count": 5,
   "outputs": [
    {
     "name": "stdout",
     "output_type": "stream",
     "text": [
      "CPU times: user 5min 44s, sys: 3.94 s, total: 5min 48s\n",
      "Wall time: 4min 11s\n"
     ]
    }
   ],
   "source": [
    "%%time\n",
    "W, b = initialize()\n",
    "total_costs = []\n",
    "for i in range(number_of_epochs):\n",
    "    batches = [train_set[x:x + batch_size] for x in range(0, number_of_samples, batch_size)]\n",
    "    for batch in batches:\n",
    "        grad_W1 = np.zeros((150, 102))\n",
    "        grad_b1 = np.zeros((150, 1))\n",
    "\n",
    "        grad_W2 = np.zeros((60, 150))\n",
    "        grad_b2 = np.zeros((60, 1))\n",
    "\n",
    "        grad_W3 = np.zeros((4, 60))\n",
    "        grad_b3 = np.zeros((4, 1))\n",
    "\n",
    "        for image, label in batch:\n",
    "            # forward propagation\n",
    "            a1 = feedforward(W[0], image, b[0], 'sigmoid')\n",
    "            a2 = feedforward(W[1], a1, b[1], 'sigmoid')\n",
    "            a3 = feedforward(W[2], a2, b[2], 'sigmoid')\n",
    "\n",
    "            z1 = (W[0] @ image) + b[0]\n",
    "            z2 = (W[1] @ a1) + b[1]\n",
    "            z3 = (W[2] @ a2) + b[2]\n",
    "\n",
    "            # Output layer\n",
    "            for j in range(grad_W3.shape[0]):\n",
    "                for k in range(grad_W3.shape[1]):\n",
    "                    grad_W3[j, k] += 2 * (a3[j, 0] - label[j, 0]) * derivative_sigmoid(z3[j, 0]) * a2[k, 0]\n",
    "\n",
    "            for j in range(grad_b3.shape[0]):\n",
    "                grad_b3[j, 0] += 2 * (a3[j, 0] - label[j, 0]) * derivative_sigmoid(z3[j, 0])\n",
    "\n",
    "            # Hidden layer 2\n",
    "            grad_a2 = np.zeros((60, 1))\n",
    "            for k in range(60):\n",
    "                for j in range(4):\n",
    "                    grad_a2[k, 0] += 2 * (a3[j, 0] - label[j, 0]) * derivative_sigmoid(z3[j, 0]) * W[2][j, k]\n",
    "\n",
    "            for k in range(grad_W2.shape[0]):\n",
    "                for m in range(grad_W2.shape[1]):\n",
    "                    grad_W2[k, m] += grad_a2[k, 0] * derivative_sigmoid(z2[k, 0]) * a1[m, 0]\n",
    "\n",
    "            for k in range(grad_b2.shape[0]):\n",
    "                grad_b2[k, 0] += grad_a2[k, 0] * derivative_sigmoid(z2[k, 0])\n",
    "\n",
    "            # Hidden layer 1\n",
    "            grad_a1 = np.zeros((150, 1))\n",
    "            for m in range(150):\n",
    "                for k in range(60):\n",
    "                    grad_a1[m, 0] += grad_a2[k, 0] * derivative_sigmoid(z2[k, 0]) * W[1][k, m]\n",
    "\n",
    "            for m in range(grad_W1.shape[0]):\n",
    "                for v in range(grad_W1.shape[1]):\n",
    "                    grad_W1[m, v] += grad_a1[m, 0] * derivative_sigmoid(z1[m, 0]) * image[v, 0]\n",
    "\n",
    "            for m in range(grad_b1.shape[0]):\n",
    "                grad_b1[m, 0] += grad_a1[m, 0] * derivative_sigmoid(z1[m, 0])\n",
    "\n",
    "        W[0] -= (learning_rate * (grad_W1 / batch_size))\n",
    "        W[1] -= (learning_rate * (grad_W2 / batch_size))\n",
    "        W[2] -= (learning_rate * (grad_W3 / batch_size))\n",
    "\n",
    "        b[0] -= (learning_rate * (grad_b1 / batch_size))\n",
    "        b[1] -= (learning_rate * (grad_b2 / batch_size))\n",
    "        b[2] -= (learning_rate * (grad_b3 / batch_size))\n",
    "\n",
    "    cost = 0\n",
    "    cost_calculator(train_sample_200, W[0], W[1], W[2], b[0], b[1], b[2], cost)"
   ],
   "metadata": {
    "collapsed": false,
    "pycharm": {
     "name": "#%%\n"
    }
   }
  },
  {
   "cell_type": "code",
   "execution_count": 6,
   "outputs": [
    {
     "name": "stdout",
     "output_type": "stream",
     "text": [
      "Accuracy: 69.5\n"
     ]
    },
    {
     "data": {
      "text/plain": "<Figure size 432x288 with 1 Axes>",
      "image/png": "[encoded data removed]"
     },
     "metadata": {
      "needs_background": "light"
     },
     "output_type": "display_data"
    }
   ],
   "source": [
    "epoch_size = [x for x in range(number_of_epochs)]\n",
    "plt.plot(epoch_size, total_costs)\n",
    "print(f\"Accuracy: {calculate_accuracy(train_sample_200, W[0], W[1], W[2], b[0], b[1], b[2], number_of_samples)}\")"
   ],
   "metadata": {
    "collapsed": false,
    "pycharm": {
     "name": "#%%\n"
    }
   }
  },
  {
   "cell_type": "markdown",
   "source": [
    "The Cost function is decreasing. As a result, we know that our Neural Network is working properly.\n"
   ],
   "metadata": {
    "collapsed": false,
    "pycharm": {
     "name": "#%% md\n"
    }
   }
  },
  {
   "cell_type": "markdown",
   "metadata": {},
   "source": [
    "# Step Four: Vectorization\n",
    "To save time, we re-create the previous NN, but this time without the loops.<br>"
   ]
  },
  {
   "cell_type": "code",
   "execution_count": 7,
   "metadata": {
    "collapsed": false,
    "jupyter": {
     "outputs_hidden": false
    },
    "pycharm": {
     "name": "#%%\n"
    }
   },
   "outputs": [
    {
     "name": "stdout",
     "output_type": "stream",
     "text": [
      "CPU times: user 3.5 s, sys: 53.5 ms, total: 3.55 s\n",
      "Wall time: 1.92 s\n"
     ]
    }
   ],
   "source": [
    "%%time\n",
    "batch_size = 10\n",
    "learning_rate = 1\n",
    "number_of_epochs = 20\n",
    "W, b = initialize()\n",
    "total_costs = []\n",
    "for i in range(number_of_epochs):\n",
    "    batches = [train_sample_200[x:x + batch_size] for x in range(0, len(train_sample_200), batch_size)]\n",
    "    for batch in batches:\n",
    "        grad_W1 = np.zeros((150, 102))\n",
    "        grad_b1 = np.zeros((150, 1))\n",
    "\n",
    "        grad_W2 = np.zeros((60, 150))\n",
    "        grad_b2 = np.zeros((60, 1))\n",
    "\n",
    "        grad_W3 = np.zeros((4, 60))\n",
    "        grad_b3 = np.zeros((4, 1))\n",
    "\n",
    "        for image, label in batch:\n",
    "            # Forward propagation\n",
    "            a1 = feedforward(W[0], image, b[0], 'sigmoid')\n",
    "            a2 = feedforward(W[1], a1, b[1], 'sigmoid')\n",
    "            a3 = feedforward(W[2], a2, b[2], 'sigmoid')\n",
    "\n",
    "            z1 = (W[0] @ image) + b[0]\n",
    "            z2 = (W[1] @ a1) + b[1]\n",
    "            z3 = (W[2] @ a2) + b[2]\n",
    "\n",
    "            # Output layer\n",
    "            grad_W3 += (2 * (a3 - label) * derivative_sigmoid(z3)) @ np.transpose(a2)\n",
    "            grad_b3 += 2 * (a3 - label) * derivative_sigmoid(z3)\n",
    "\n",
    "            # Hidden layer 2\n",
    "            grad_a2 = np.zeros((60, 1))\n",
    "            grad_a2 += np.transpose(W[2]) @ (2 * (a3 - label) * derivative_sigmoid(z3))\n",
    "            grad_W2 += (derivative_sigmoid(z2) * grad_a2) @ np.transpose(a1)\n",
    "            grad_b2 += grad_a2 * derivative_sigmoid(z2)\n",
    "\n",
    "            # Hidden layer 1\n",
    "            grad_a1 = np.zeros((150, 1))\n",
    "            grad_a1 += np.transpose(W[1]) @ (grad_a2 * derivative_sigmoid(z2))\n",
    "            grad_W1 += (grad_a1 * derivative_sigmoid(z1)) @ np.transpose(image)\n",
    "            grad_b1 += grad_a1 * derivative_sigmoid(z1)\n",
    "\n",
    "        W[0] -= (learning_rate * (grad_W1 / batch_size))\n",
    "        W[1] -= (learning_rate * (grad_W2 / batch_size))\n",
    "        W[2] -= (learning_rate * (grad_W3 / batch_size))\n",
    "\n",
    "        b[0] -= (learning_rate * (grad_b1 / batch_size))\n",
    "        b[1] -= (learning_rate * (grad_b2 / batch_size))\n",
    "        b[2] -= (learning_rate * (grad_b3 / batch_size))\n",
    "    cost = 0\n",
    "    cost_calculator(train_sample_200, W[0], W[1], W[2], b[0], b[1], b[2], cost)"
   ]
  },
  {
   "cell_type": "markdown",
   "source": [
    "As can be seen, the execution time is significantly reduced."
   ],
   "metadata": {
    "collapsed": false
   }
  },
  {
   "cell_type": "code",
   "execution_count": 8,
   "outputs": [
    {
     "name": "stdout",
     "output_type": "stream",
     "text": [
      "Accuracy: 100.0\n"
     ]
    },
    {
     "data": {
      "text/plain": "<Figure size 432x288 with 1 Axes>",
      "image/png": "[encoded data removed]"
     },
     "metadata": {
      "needs_background": "light"
     },
     "output_type": "display_data"
    }
   ],
   "source": [
    "epoch_size = [x for x in range(number_of_epochs)]\n",
    "plt.plot(epoch_size, total_costs)\n",
    "print(f\"Accuracy: {calculate_accuracy(train_sample_200, W[0], W[1], W[2], b[0], b[1], b[2], len(train_sample_200))}\")"
   ],
   "metadata": {
    "collapsed": false,
    "pycharm": {
     "name": "#%%\n"
    }
   }
  },
  {
   "cell_type": "markdown",
   "source": [
    "Test the model ten times and average the results."
   ],
   "metadata": {
    "collapsed": false
   }
  },
  {
   "cell_type": "code",
   "execution_count": 27,
   "outputs": [
    {
     "name": "stdout",
     "output_type": "stream",
     "text": [
      "[100.0, 79.5, 100.0, 100.0, 100.0, 54.50000000000001, 100.0, 100.0, 79.5, 100.0]\n",
      "Average accuracy: 91.35\n"
     ]
    },
    {
     "data": {
      "text/plain": "<Figure size 432x288 with 1 Axes>",
      "image/png": "[encoded data removed]"
     },
     "metadata": {
      "needs_background": "light"
     },
     "output_type": "display_data"
    }
   ],
   "source": [
    "batch_size = 10\n",
    "learning_rate = 1\n",
    "number_of_epochs = 20\n",
    "average_accuracy = []\n",
    "for i in range(10):\n",
    "    W, b = initialize()\n",
    "    total_costs = []\n",
    "    for i in range(number_of_epochs):\n",
    "        np.random.shuffle(train_sample_200)\n",
    "        batches = [train_sample_200[x:x + batch_size] for x in range(0, len(train_sample_200), batch_size)]\n",
    "        for batch in batches:\n",
    "            grad_W1 = np.zeros((150, 102))\n",
    "            grad_b1 = np.zeros((150, 1))\n",
    "\n",
    "            grad_W2 = np.zeros((60, 150))\n",
    "            grad_b2 = np.zeros((60, 1))\n",
    "\n",
    "            grad_W3 = np.zeros((4, 60))\n",
    "            grad_b3 = np.zeros((4, 1))\n",
    "\n",
    "            for image, label in batch:\n",
    "                # Forward propagation\n",
    "                a1 = feedforward(W[0], image, b[0], 'sigmoid')\n",
    "                a2 = feedforward(W[1], a1, b[1], 'sigmoid')\n",
    "                a3 = feedforward(W[2], a2, b[2], 'sigmoid')\n",
    "\n",
    "                z1 = (W[0] @ image) + b[0]\n",
    "                z2 = (W[1] @ a1) + b[1]\n",
    "                z3 = (W[2] @ a2) + b[2]\n",
    "\n",
    "                # Output layer\n",
    "                grad_W3 += (2 * (a3 - label) * derivative_sigmoid(z3)) @ np.transpose(a2)\n",
    "                grad_b3 += 2 * (a3 - label) * derivative_sigmoid(z3)\n",
    "\n",
    "                # Hidden layer 2\n",
    "                grad_a2 = np.zeros((60, 1))\n",
    "                grad_a2 += np.transpose(W[2]) @ (2 * (a3 - label) * derivative_sigmoid(z3))\n",
    "                grad_W2 += (derivative_sigmoid(z2) * grad_a2) @ np.transpose(a1)\n",
    "                grad_b2 += grad_a2 * derivative_sigmoid(z2)\n",
    "\n",
    "                # Hidden layer 1\n",
    "                grad_a1 = np.zeros((150, 1))\n",
    "                grad_a1 += np.transpose(W[1]) @ (grad_a2 * derivative_sigmoid(z2))\n",
    "                grad_W1 += (grad_a1 * derivative_sigmoid(z1)) @ np.transpose(image)\n",
    "                grad_b1 += grad_a1 * derivative_sigmoid(z1)\n",
    "\n",
    "            W[0] -= (learning_rate * (grad_W1 / batch_size))\n",
    "            W[1] -= (learning_rate * (grad_W2 / batch_size))\n",
    "            W[2] -= (learning_rate * (grad_W3 / batch_size))\n",
    "\n",
    "            b[0] -= (learning_rate * (grad_b1 / batch_size))\n",
    "            b[1] -= (learning_rate * (grad_b2 / batch_size))\n",
    "            b[2] -= (learning_rate * (grad_b3 / batch_size))\n",
    "        cost = 0\n",
    "        cost_calculator(train_sample_200, W[0], W[1], W[2], b[0], b[1], b[2], cost)\n",
    "    epoch_size = [x for x in range(number_of_epochs)]\n",
    "    plt.plot(epoch_size, total_costs)\n",
    "    plt.xlabel(\"Epochs\")\n",
    "    plt.ylabel(\"cost\")\n",
    "    average_accuracy.append(calculate_accuracy(train_sample_200, W[0], W[1], W[2], b[0], b[1], b[2], number_of_samples))\n",
    "print(average_accuracy)\n",
    "print(f\"Average accuracy: {mean(average_accuracy)}\")"
   ],
   "metadata": {
    "collapsed": false,
    "pycharm": {
     "name": "#%%\n"
    }
   }
  },
  {
   "cell_type": "markdown",
   "source": [
    "# Step Five: Testing the Model\n",
    "Finally, we take the complete dataset as input and iterate through all of the photographs to determine the correctness of our train and test sets with no regard for time.\n"
   ],
   "metadata": {
    "collapsed": false,
    "pycharm": {
     "name": "#%% md\n"
    }
   }
  },
  {
   "cell_type": "code",
   "execution_count": 15,
   "outputs": [
    {
     "name": "stdout",
     "output_type": "stream",
     "text": [
      "CPU times: user 18 s, sys: 366 ms, total: 18.3 s\n",
      "Wall time: 16.7 s\n"
     ]
    }
   ],
   "source": [
    "%%time\n",
    "batch_size = 10\n",
    "learning_rate = 1\n",
    "number_of_epochs = 10\n",
    "total_costs = []\n",
    "W, b = initialize()\n",
    "for i in range(number_of_epochs):\n",
    "    batches = [train_set[x:x + batch_size] for x in range(0, len(train_set), batch_size)]\n",
    "    for batch in batches:\n",
    "        grad_W1 = np.zeros((150, 102))\n",
    "        grad_b1 = np.zeros((150, 1))\n",
    "\n",
    "        grad_W2 = np.zeros((60, 150))\n",
    "        grad_b2 = np.zeros((60, 1))\n",
    "\n",
    "        grad_W3 = np.zeros((4, 60))\n",
    "        grad_b3 = np.zeros((4, 1))\n",
    "\n",
    "        for image, label in batch:\n",
    "            # Forward propagation\n",
    "            a1 = feedforward(W[0], image, b[0], 'sigmoid')\n",
    "            a2 = feedforward(W[1], a1, b[1], 'sigmoid')\n",
    "            a3 = feedforward(W[2], a2, b[2], 'sigmoid')\n",
    "\n",
    "            z1 = (W[0] @ image) + b[0]\n",
    "            z2 = (W[1] @ a1) + b[1]\n",
    "            z3 = (W[2] @ a2) + b[2]\n",
    "\n",
    "            # Output layer\n",
    "            grad_W3 += (2 * (a3 - label) * derivative_sigmoid(z3)) @ np.transpose(a2)\n",
    "            grad_b3 += 2 * (a3 - label) * derivative_sigmoid(z3)\n",
    "\n",
    "            # Hidden layer 2\n",
    "            grad_a2 = np.zeros((60, 1))\n",
    "            grad_a2 += np.transpose(W[2]) @ (2 * (a3 - label) * derivative_sigmoid(z3))\n",
    "            grad_W2 += (derivative_sigmoid(z2) * grad_a2) @ np.transpose(a1)\n",
    "            grad_b2 += grad_a2 * derivative_sigmoid(z2)\n",
    "\n",
    "            # Hidden layer 1\n",
    "            grad_a1 = np.zeros((150, 1))\n",
    "            grad_a1 += np.transpose(W[1]) @ (grad_a2 * derivative_sigmoid(z2))\n",
    "            grad_W1 += (grad_a1 * derivative_sigmoid(z1)) @ np.transpose(image)\n",
    "            grad_b1 += grad_a1 * derivative_sigmoid(z1)\n",
    "\n",
    "        W[0] -= (learning_rate * (grad_W1 / batch_size))\n",
    "        W[1] -= (learning_rate * (grad_W2 / batch_size))\n",
    "        W[2] -= (learning_rate * (grad_W3 / batch_size))\n",
    "\n",
    "        b[0] -= (learning_rate * (grad_b1 / batch_size))\n",
    "        b[1] -= (learning_rate * (grad_b2 / batch_size))\n",
    "        b[2] -= (learning_rate * (grad_b3 / batch_size))\n",
    "    cost = 0\n",
    "    cost_calculator(train_set, W[0], W[1], W[2], b[0], b[1], b[2], cost)"
   ],
   "metadata": {
    "collapsed": false,
    "pycharm": {
     "name": "#%%\n"
    }
   }
  },
  {
   "cell_type": "code",
   "execution_count": 16,
   "outputs": [
    {
     "name": "stdout",
     "output_type": "stream",
     "text": [
      "Accuracy of our model for train set is: 100.0\n",
      "Accuracy of our model for test set is: 100.0\n"
     ]
    },
    {
     "data": {
      "text/plain": "<Figure size 432x288 with 1 Axes>",
      "image/png": "[encoded data removed]"
     },
     "metadata": {
      "needs_background": "light"
     },
     "output_type": "display_data"
    }
   ],
   "source": [
    "epoch_size = [x for x in range(number_of_epochs)]\n",
    "plt.plot(epoch_size, total_costs)\n",
    "print(\n",
    "    f\"Accuracy of our model for train set is: {calculate_accuracy(train_set, W[0], W[1], W[2], b[0], b[1], b[2], len(train_set))}\")\n",
    "print(\n",
    "    f\"Accuracy of our model for test set is: {calculate_accuracy(test_set, W[0], W[1], W[2], b[0], b[1], b[2], len(test_set))}\")"
   ],
   "metadata": {
    "collapsed": false,
    "pycharm": {
     "name": "#%%\n"
    }
   }
  },
  {
   "cell_type": "markdown",
   "source": [
    "Test the model ten times and average the results."
   ],
   "metadata": {
    "collapsed": false,
    "pycharm": {
     "name": "#%% md\n"
    }
   }
  },
  {
   "cell_type": "code",
   "execution_count": 26,
   "outputs": [
    {
     "data": {
      "text/plain": "<Figure size 432x288 with 1 Axes>",
      "image/png": "[encoded data removed]"
     },
     "metadata": {
      "needs_background": "light"
     },
     "output_type": "display_data"
    }
   ],
   "source": [
    "batch_size = 10\n",
    "learning_rate = 1\n",
    "number_of_epochs = 10\n",
    "average_accuracy = []\n",
    "for i in range(10):\n",
    "    W, b = initialize()\n",
    "    total_costs = []\n",
    "    for i in range(number_of_epochs):\n",
    "        np.random.shuffle(train_set)\n",
    "        batches = [train_set[x:x + batch_size] for x in range(0, len(train_set), batch_size)]\n",
    "        for batch in batches:\n",
    "            grad_W1 = np.zeros((150, 102))\n",
    "            grad_b1 = np.zeros((150, 1))\n",
    "\n",
    "            grad_W2 = np.zeros((60, 150))\n",
    "            grad_b2 = np.zeros((60, 1))\n",
    "\n",
    "            grad_W3 = np.zeros((4, 60))\n",
    "            grad_b3 = np.zeros((4, 1))\n",
    "\n",
    "            for image, label in batch:\n",
    "                # Forward propagation\n",
    "                a1 = feedforward(W[0], image, b[0], 'sigmoid')\n",
    "                a2 = feedforward(W[1], a1, b[1], 'sigmoid')\n",
    "                a3 = feedforward(W[2], a2, b[2], 'sigmoid')\n",
    "\n",
    "                z1 = (W[0] @ image) + b[0]\n",
    "                z2 = (W[1] @ a1) + b[1]\n",
    "                z3 = (W[2] @ a2) + b[2]\n",
    "\n",
    "                # Output layer\n",
    "                grad_W3 += (2 * (a3 - label) * derivative_sigmoid(z3)) @ np.transpose(a2)\n",
    "                grad_b3 += 2 * (a3 - label) * derivative_sigmoid(z3)\n",
    "\n",
    "                # Hidden layer 2\n",
    "                grad_a2 = np.zeros((60, 1))\n",
    "                grad_a2 += np.transpose(W[2]) @ (2 * (a3 - label) * derivative_sigmoid(z3))\n",
    "                grad_W2 += (derivative_sigmoid(z2) * grad_a2) @ np.transpose(a1)\n",
    "                grad_b2 += grad_a2 * derivative_sigmoid(z2)\n",
    "\n",
    "                # Hidden layer 1\n",
    "                grad_a1 = np.zeros((150, 1))\n",
    "                grad_a1 += np.transpose(W[1]) @ (grad_a2 * derivative_sigmoid(z2))\n",
    "                grad_W1 += (grad_a1 * derivative_sigmoid(z1)) @ np.transpose(image)\n",
    "                grad_b1 += grad_a1 * derivative_sigmoid(z1)\n",
    "\n",
    "            W[0] -= (learning_rate * (grad_W1 / batch_size))\n",
    "            W[1] -= (learning_rate * (grad_W2 / batch_size))\n",
    "            W[2] -= (learning_rate * (grad_W3 / batch_size))\n",
    "\n",
    "            b[0] -= (learning_rate * (grad_b1 / batch_size))\n",
    "            b[1] -= (learning_rate * (grad_b2 / batch_size))\n",
    "            b[2] -= (learning_rate * (grad_b3 / batch_size))\n",
    "        cost = 0\n",
    "        cost_calculator(train_set, W[0], W[1], W[2], b[0], b[1], b[2], cost)\n",
    "    epoch_size = [x for x in range(number_of_epochs)]\n",
    "    plt.plot(epoch_size, total_costs)\n",
    "    plt.xlabel(\"Epochs\")\n",
    "    plt.ylabel(\"cost\")\n",
    "    average_accuracy.append(calculate_accuracy(train_set, W[0], W[1], W[2], b[0], b[1], b[2], len(train_set)))"
   ],
   "metadata": {
    "collapsed": false,
    "pycharm": {
     "name": "#%%\n"
    }
   }
  },
  {
   "cell_type": "code",
   "execution_count": 13,
   "outputs": [
    {
     "name": "stdout",
     "output_type": "stream",
     "text": [
      "Average accuracy: 100.0\n"
     ]
    }
   ],
   "source": [
    "print(f\"Average accuracy: {mean(average_accuracy)}\")"
   ],
   "metadata": {
    "collapsed": false,
    "pycharm": {
     "name": "#%%\n"
    }
   }
  },
  {
   "cell_type": "markdown",
   "source": [
    "# Extra points\n",
    "## Part1\n",
    "To avoid a local minimum, test the model with different Hyper-parameters."
   ],
   "metadata": {
    "collapsed": false,
    "pycharm": {
     "name": "#%% md\n"
    }
   }
  },
  {
   "cell_type": "markdown",
   "source": [
    "### 1.Learning rate<br>\n",
    "<b>Hyperparameters:<br></b>\n",
    "batch_size = 10<br>\n",
    "learning_rate = 0.5<br>\n",
    "number_of_epochs = 10<br>\n",
    "result:<br>\n",
    "Accuracy of our model for train set is: 100.0<br>\n",
    "Accuracy of our model for test set is: 99.69<br>\n",
    "As the learning rate decreases, the accuracy of our test set decreases."
   ],
   "metadata": {
    "collapsed": false,
    "pycharm": {
     "name": "#%% md\n"
    }
   }
  },
  {
   "cell_type": "markdown",
   "source": [
    "<b>Hyperparameters:<br></b>\n",
    "batch_size = 10<br>\n",
    "learning_rate = 2<br>\n",
    "number_of_epochs = 10<br>\n",
    "result:<br>\n",
    "Accuracy of our model for train set is: 25.07<br>\n",
    "Accuracy of our model for test set is: 24.77<br>\n",
    "As we can see from the definition of learning rate, The lower the value, the more slowly we move down the hill. Increasing this figure, as we can see, is not a smart idea."
   ],
   "metadata": {
    "collapsed": false,
    "pycharm": {
     "name": "#%% md\n"
    }
   }
  },
  {
   "cell_type": "markdown",
   "source": [
    "<b>Hyperparameters:<br></b>\n",
    "batch_size = 10<br>\n",
    "learning_rate = 1<br>\n",
    "number_of_epochs = 10<br>\n",
    "result:<br>\n",
    "Accuracy of our model for train set is: 100.0<br>\n",
    "Accuracy of our model for test set is: 100.0<br>\n",
    "When the learning rate is one, the best results are obtained."
   ],
   "metadata": {
    "collapsed": false,
    "pycharm": {
     "name": "#%% md\n"
    }
   }
  },
  {
   "cell_type": "markdown",
   "source": [
    "### 2.Number of epochs<br>\n",
    "Let's try a few different values for the number of epochs now.<br>\n",
    "As we can see, as the number of epochs increases, our graph becomes smoother and better fitted. However, increasing this number too high may create overfitting and require too much time, thus our best options are between 15-20.\n",
    "<table><tr>\n",
    "    <td>\n",
    "        <figure>\n",
    "            <img src=\"images/NOF-15.jpg\" width=\"200\" height=\"100\"><br>\n",
    "            <figcaption>number of epochs = 15</figcaption>\n",
    "        </figure>\n",
    "    </td>\n",
    "    <td>\n",
    "        <figure>\n",
    "            <img src=\"images/NOF-20.jpg\" width=\"200\" height=\"100\"><br>\n",
    "            <figcaption>number of epochs = 20</figcaption>\n",
    "        </figure>\n",
    "    </td>\n",
    "    <td>\n",
    "        <figure>\n",
    "            <img src=\"images/NOF-30.jpg\" width=\"200\" height=\"100\"><br>\n",
    "            <figcaption>number of epochs = 30</figcaption>\n",
    "        </figure>\n",
    "    </td>\n",
    "</tr></table>"
   ],
   "metadata": {
    "collapsed": false,
    "pycharm": {
     "name": "#%% md\n"
    }
   }
  },
  {
   "cell_type": "markdown",
   "source": [
    "### 3.Batch size\n",
    "As can be seen from the graphs, a value between 10-15 fits the best.<br>\n",
    "<table><tr>\n",
    "    <td>\n",
    "        <figure>\n",
    "            <img src=\"images/Bsize-5.jpg\" width=\"200\" height=\"100\"><br>\n",
    "            <figcaption>batch size = 5</figcaption>\n",
    "        </figure>\n",
    "    </td>\n",
    "    <td>\n",
    "        <figure>\n",
    "            <img src=\"images/Bsize-15.jpg\" width=\"200\" height=\"100\"><br>\n",
    "            <figcaption>batch size = 15</figcaption>\n",
    "        </figure>\n",
    "    </td>\n",
    "    <td>\n",
    "        <figure>\n",
    "            <img src=\"images/Bsize-20.jpg\" width=\"200\" height=\"100\"><br>\n",
    "            <figcaption>batch size = 20</figcaption>\n",
    "        </figure>\n",
    "    </td>\n",
    "</tr></table>"
   ],
   "metadata": {
    "collapsed": false,
    "pycharm": {
     "name": "#%% md\n"
    }
   }
  },
  {
   "cell_type": "markdown",
   "source": [
    "## Part2\n",
    "We'll utilize adaptive gradient, or AdaGrad, to enhance the local minimum problem and see how it works on our dataset.<br>\n",
    "<img src=\"images/equation.png\" width=\"200\" height=\"100\"><br>"
   ],
   "metadata": {
    "collapsed": false,
    "pycharm": {
     "name": "#%% md\n"
    }
   }
  },
  {
   "cell_type": "code",
   "execution_count": 10,
   "outputs": [
    {
     "name": "stderr",
     "output_type": "stream",
     "text": [
      "<ipython-input-3-94eb9f358698>:2: RuntimeWarning: overflow encountered in exp\n",
      "  return 1 / (1 + np.exp(-x))\n"
     ]
    },
    {
     "name": "stdout",
     "output_type": "stream",
     "text": [
      "Average accuracy: 24.99490316004077\n"
     ]
    },
    {
     "data": {
      "text/plain": "<Figure size 432x288 with 1 Axes>",
      "image/png": "[encoded data removed]"
     },
     "metadata": {
      "needs_background": "light"
     },
     "output_type": "display_data"
    }
   ],
   "source": [
    "batch_size = 10\n",
    "learning_rate = 4\n",
    "number_of_epochs = 10\n",
    "average_accuracy = []\n",
    "for i in range(10):\n",
    "    total_costs = []\n",
    "    W, b = initialize()\n",
    "    vt_w1 = 0\n",
    "    vt_w2 = 0\n",
    "    vt_w3 = 0\n",
    "    vt_b1 = 0\n",
    "    vt_b2 = 0\n",
    "    vt_b3 = 0\n",
    "    e = math.pow(10 , -7)\n",
    "    for i in range(number_of_epochs):\n",
    "        np.random.shuffle(train_set)\n",
    "        batches = [train_set[x:x + batch_size] for x in range(0, len(train_set), batch_size)]\n",
    "        for batch in batches:\n",
    "            grad_W1 = np.zeros((150, 102))\n",
    "            grad_b1 = np.zeros((150, 1))\n",
    "\n",
    "            grad_W2 = np.zeros((60, 150))\n",
    "            grad_b2 = np.zeros((60, 1))\n",
    "\n",
    "            grad_W3 = np.zeros((4, 60))\n",
    "            grad_b3 = np.zeros((4, 1))\n",
    "\n",
    "            for image, label in batch:\n",
    "                # Forward propagation\n",
    "                a1 = feedforward(W[0], image, b[0], 'sigmoid')\n",
    "                a2 = feedforward(W[1], a1, b[1], 'sigmoid')\n",
    "                a3 = feedforward(W[2], a2, b[2], 'sigmoid')\n",
    "\n",
    "                z1 = (W[0] @ image) + b[0]\n",
    "                z2 = (W[1] @ a1) + b[1]\n",
    "                z3 = (W[2] @ a2) + b[2]\n",
    "\n",
    "                # Output layer\n",
    "                grad_W3 += (2 * (a3 - label) * derivative_sigmoid(z3)) @ np.transpose(a2)\n",
    "                grad_b3 += 2 * (a3 - label) * derivative_sigmoid(z3)\n",
    "\n",
    "                # Hidden layer 2\n",
    "                grad_a2 = np.zeros((60, 1))\n",
    "                grad_a2 += np.transpose(W[2]) @ (2 * (a3 - label) * derivative_sigmoid(z3))\n",
    "                grad_W2 += (derivative_sigmoid(z2) * grad_a2) @ np.transpose(a1)\n",
    "                grad_b2 += grad_a2 * derivative_sigmoid(z2)\n",
    "\n",
    "                # Hidden layer 1\n",
    "                grad_a1 = np.zeros((150, 1))\n",
    "                grad_a1 += np.transpose(W[1]) @ (grad_a2 * derivative_sigmoid(z2))\n",
    "                grad_W1 += (grad_a1 * derivative_sigmoid(z1)) @ np.transpose(image)\n",
    "                grad_b1 += grad_a1 * derivative_sigmoid(z1)\n",
    "\n",
    "            W[0] -= ((learning_rate/(np.sqrt(vt_w1+e))) * (grad_W1 / batch_size))\n",
    "            W[1] -= ((learning_rate/(np.sqrt(vt_w2+e))) * (grad_W2 / batch_size))\n",
    "            W[2] -= ((learning_rate/(np.sqrt(vt_w3+e))) * (grad_W3 / batch_size))\n",
    "\n",
    "            vt_w1 = vt_w1 + np.power((grad_W1 / batch_size), 2)\n",
    "            vt_w2 = vt_w2 + np.power((grad_W2 / batch_size), 2)\n",
    "            vt_w3 = vt_w3 + np.power((grad_W3 / batch_size), 2)\n",
    "\n",
    "            b[0] -= ((learning_rate/(np.sqrt(vt_b1+e))) * (grad_b1 / batch_size))\n",
    "            b[1] -= ((learning_rate/(np.sqrt(vt_b2+e))) * (grad_b2 / batch_size))\n",
    "            b[2] -= ((learning_rate/(np.sqrt(vt_b3+e))) * (grad_b3 / batch_size))\n",
    "\n",
    "            vt_b1 = vt_b1 + np.power((grad_b1 / batch_size), 2)\n",
    "            vt_b2 = vt_b2 + np.power((grad_b2 / batch_size), 2)\n",
    "            vt_b3 = vt_b3 + np.power((grad_b3 / batch_size), 2)\n",
    "\n",
    "        cost = 0\n",
    "        cost_calculator(train_set, W[0], W[1], W[2], b[0], b[1], b[2], cost)\n",
    "    epoch_size = [x for x in range(number_of_epochs)]\n",
    "    plt.plot(epoch_size, total_costs)\n",
    "    plt.xlabel(\"Epochs\")\n",
    "    plt.ylabel(\"cost\")\n",
    "    average_accuracy.append(calculate_accuracy(train_set, W[0], W[1], W[2], b[0], b[1], b[2], len(train_set)))\n",
    "print(f\"Average accuracy: {mean(average_accuracy)}\")"
   ],
   "metadata": {
    "collapsed": false,
    "pycharm": {
     "name": "#%%\n"
    }
   }
  },
  {
   "cell_type": "markdown",
   "source": [
    "I tried AdaGrad with various learning rates, and it didn't seem to function well on our data, so let's try gradient boosting with momentum."
   ],
   "metadata": {
    "collapsed": false,
    "pycharm": {
     "name": "#%% md\n"
    }
   }
  },
  {
   "cell_type": "code",
   "execution_count": 15,
   "outputs": [
    {
     "name": "stdout",
     "output_type": "stream",
     "text": [
      "Average accuracy: 100.0\n"
     ]
    },
    {
     "data": {
      "text/plain": "<Figure size 432x288 with 1 Axes>",
      "image/png": "[encoded data removed]"
     },
     "metadata": {
      "needs_background": "light"
     },
     "output_type": "display_data"
    }
   ],
   "source": [
    "batch_size = 10\n",
    "learning_rate = 1\n",
    "number_of_epochs = 10\n",
    "average_accuracy = []\n",
    "momentum_factor = 0.1\n",
    "W, b = initialize()\n",
    "for i in range(10):\n",
    "    total_costs = []\n",
    "    mt_w1 = 0\n",
    "    mt_w2 = 0\n",
    "    mt_w3 = 0\n",
    "    mt_b1 = 0\n",
    "    mt_b2 = 0\n",
    "    mt_b3 = 0\n",
    "    for i in range(number_of_epochs):\n",
    "        np.random.shuffle(train_set)\n",
    "        batches = [train_set[x:x + batch_size] for x in range(0, len(train_set), batch_size)]\n",
    "        for batch in batches:\n",
    "            grad_W1 = np.zeros((150, 102))\n",
    "            grad_b1 = np.zeros((150, 1))\n",
    "\n",
    "            grad_W2 = np.zeros((60, 150))\n",
    "            grad_b2 = np.zeros((60, 1))\n",
    "\n",
    "            grad_W3 = np.zeros((4, 60))\n",
    "            grad_b3 = np.zeros((4, 1))\n",
    "\n",
    "            for image, label in batch:\n",
    "                # Forward propagation\n",
    "                a1 = feedforward(W[0], image, b[0], 'sigmoid')\n",
    "                a2 = feedforward(W[1], a1, b[1], 'sigmoid')\n",
    "                a3 = feedforward(W[2], a2, b[2], 'sigmoid')\n",
    "\n",
    "                z1 = (W[0] @ image) + b[0]\n",
    "                z2 = (W[1] @ a1) + b[1]\n",
    "                z3 = (W[2] @ a2) + b[2]\n",
    "\n",
    "                # Output layer\n",
    "                grad_W3 += (2 * (a3 - label) * derivative_sigmoid(z3)) @ np.transpose(a2)\n",
    "                grad_b3 += 2 * (a3 - label) * derivative_sigmoid(z3)\n",
    "\n",
    "                # Hidden layer 2\n",
    "                grad_a2 = np.zeros((60, 1))\n",
    "                grad_a2 += np.transpose(W[2]) @ (2 * (a3 - label) * derivative_sigmoid(z3))\n",
    "                grad_W2 += (derivative_sigmoid(z2) * grad_a2) @ np.transpose(a1)\n",
    "                grad_b2 += grad_a2 * derivative_sigmoid(z2)\n",
    "\n",
    "                # Hidden layer 1\n",
    "                grad_a1 = np.zeros((150, 1))\n",
    "                grad_a1 += np.transpose(W[1]) @ (grad_a2 * derivative_sigmoid(z2))\n",
    "                grad_W1 += (grad_a1 * derivative_sigmoid(z1)) @ np.transpose(image)\n",
    "                grad_b1 += grad_a1 * derivative_sigmoid(z1)\n",
    "\n",
    "            W[0] -= (learning_rate * (grad_W1 / batch_size) + mt_w1)\n",
    "            W[1] -= (learning_rate * (grad_W2 / batch_size) + mt_w2)\n",
    "            W[2] -= (learning_rate * (grad_W3 / batch_size) + mt_w3)\n",
    "\n",
    "            mt_w1 = (learning_rate * (grad_W1 / batch_size) + mt_w1) * momentum_factor\n",
    "            mt_w2 = (learning_rate * (grad_W2 / batch_size) + mt_w2) * momentum_factor\n",
    "            mt_w3 = (learning_rate * (grad_W3 / batch_size) + mt_w3) * momentum_factor\n",
    "\n",
    "            b[0] -= (learning_rate * (grad_b1 / batch_size) + mt_b1)\n",
    "            b[1] -= (learning_rate * (grad_b2 / batch_size) + mt_b2)\n",
    "            b[2] -= (learning_rate * (grad_b3 / batch_size) + mt_b3)\n",
    "\n",
    "            mt_b1 = (learning_rate * (grad_b1 / batch_size) + mt_b1) * momentum_factor\n",
    "            mt_b2 = (learning_rate * (grad_b2 / batch_size) + mt_b2) * momentum_factor\n",
    "            mt_b3 = (learning_rate * (grad_b3 / batch_size) + mt_b3) * momentum_factor\n",
    "\n",
    "        cost = 0\n",
    "        cost_calculator(train_set, W[0], W[1], W[2], b[0], b[1], b[2], cost)\n",
    "    epoch_size = [x for x in range(number_of_epochs)]\n",
    "    plt.plot(epoch_size, total_costs)\n",
    "    plt.xlabel(\"Epochs\")\n",
    "    plt.ylabel(\"cost\")\n",
    "    average_accuracy.append(calculate_accuracy(train_set, W[0], W[1], W[2], b[0], b[1], b[2], len(train_set)))\n",
    "print(f\"Average accuracy: {mean(average_accuracy)}\")"
   ],
   "metadata": {
    "collapsed": false,
    "pycharm": {
     "name": "#%%\n"
    }
   }
  },
  {
   "cell_type": "markdown",
   "source": [
    "As we can see from the graph we avoided local minimums.<br>\n",
    "learning rates : 0.5 , 1 (The best result apear on 1)"
   ],
   "metadata": {
    "collapsed": false,
    "pycharm": {
     "name": "#%% md\n"
    }
   }
  },
  {
   "cell_type": "markdown",
   "source": [
    "## Part3\n",
    "We'll experiment with one more fruit (carrot) categories to see how well our model performs."
   ],
   "metadata": {
    "collapsed": false,
    "pycharm": {
     "name": "#%% md\n"
    }
   }
  },
  {
   "cell_type": "code",
   "execution_count": 48,
   "outputs": [],
   "source": [
    "f = open(\"Datasets/train_set_features.pkl\", \"rb\")\n",
    "train_set_features2 = pickle.load(f)\n",
    "f.close()\n",
    "\n",
    "# reducing feature vector length\n",
    "features_STDs = np.std(a=train_set_features2, axis=0)\n",
    "train_set_features = train_set_features2[:, features_STDs > 52.3]\n",
    "\n",
    "# changing the range of data between 0 and 1\n",
    "train_set_features = np.divide(train_set_features, train_set_features.max())\n",
    "\n",
    "# loading training set labels\n",
    "f = open(\"Datasets/train_set_labels.pkl\", \"rb\")\n",
    "train_set_labels = pickle.load(f)\n",
    "f.close()\n",
    "\n",
    "# ------------\n",
    "# loading test set features\n",
    "f = open(\"Datasets/test_set_features.pkl\", \"rb\")\n",
    "test_set_features2 = pickle.load(f)\n",
    "f.close()\n",
    "\n",
    "# reducing feature vector length\n",
    "features_STDs = np.std(a=test_set_features2, axis=0)\n",
    "test_set_features = test_set_features2[:, features_STDs > 48]\n",
    "\n",
    "# changing the range of data between 0 and 1\n",
    "test_set_features = np.divide(test_set_features, test_set_features.max())\n",
    "\n",
    "# loading test set labels\n",
    "f = open(\"Datasets/test_set_labels.pkl\", \"rb\")\n",
    "test_set_labels = pickle.load(f)\n",
    "f.close()\n",
    "\n",
    "# ------------\n",
    "# preparing our training and test sets - joining datasets and lables\n",
    "train_set = []\n",
    "test_set = []\n",
    "\n",
    "for i in range(len(train_set_features)):\n",
    "    label = np.array([0, 0, 0, 0, 0])\n",
    "    label[int(train_set_labels[i])] = 1\n",
    "    label = label.reshape(5, 1)\n",
    "    train_set.append((train_set_features[i].reshape(103, 1), label))\n",
    "\n",
    "for i in range(len(test_set_features)):\n",
    "    label = np.array([0, 0, 0, 0, 0])\n",
    "    label[int(test_set_labels[i])] = 1\n",
    "    label = label.reshape(5, 1)\n",
    "    test_set.append((test_set_features[i].reshape(103, 1), label))\n",
    "\n",
    "# shuffle\n",
    "random.shuffle(train_set)\n",
    "random.shuffle(test_set)"
   ],
   "metadata": {
    "collapsed": false,
    "pycharm": {
     "name": "#%%\n"
    }
   }
  },
  {
   "cell_type": "markdown",
   "source": [
    "Then we are going to test our model with new data"
   ],
   "metadata": {
    "collapsed": false,
    "pycharm": {
     "name": "#%% md\n"
    }
   }
  },
  {
   "cell_type": "code",
   "source": [
    "def sigmoid(x):\n",
    "    return 1 / (1 + np.exp(-x))\n",
    "\n",
    "\n",
    "def derivative_sigmoid(x):\n",
    "    return sigmoid(x) * (1 - sigmoid(x))\n",
    "\n",
    "\n",
    "def feedforward(w, a, bias, activation_func):\n",
    "    z = (w @ a) + bias\n",
    "    if activation_func == 'sigmoid':\n",
    "        return sigmoid(z)\n",
    "\n",
    "\n",
    "def cost_calculator(dataset, w1, w2, w3, b1, b2, b3, c):\n",
    "    for trainData in dataset:\n",
    "        a_0 = trainData[0]\n",
    "        a_1 = feedforward(w1, a_0, b1, 'sigmoid')\n",
    "        a_2 = feedforward(w2, a_1, b2, 'sigmoid')\n",
    "        a_3 = feedforward(w3, a_2, b3, 'sigmoid')\n",
    "\n",
    "        for j in range(5):\n",
    "            c += np.power((a_3[j, 0] - trainData[1][j, 0]), 2)\n",
    "    c /= len(dataset)\n",
    "    total_costs.append(c)\n",
    "\n",
    "\n",
    "def calculate_accuracy(dataset, w1, w2, w3, b1, b2, b3, total_num):\n",
    "    correct_guesses = 0\n",
    "    for trainData in dataset:\n",
    "        a_0 = trainData[0]\n",
    "        a_1 = feedforward(w1, a_0, b1, 'sigmoid')\n",
    "        a_2 = feedforward(w2, a_1, b2, 'sigmoid')\n",
    "        a_3 = feedforward(w3, a_2, b3, 'sigmoid')\n",
    "\n",
    "        predicted_label = np.argmax(a_3, axis=0)\n",
    "        real_label = np.argmax(trainData[1], axis=0)\n",
    "\n",
    "        if predicted_label[0] == real_label[0]:\n",
    "            correct_guesses += 1\n",
    "    accuracy = (correct_guesses / total_num) * 100\n",
    "    return accuracy\n",
    "\n",
    "\n",
    "def initialize():\n",
    "    w1 = np.random.standard_normal(size=(150, 103))\n",
    "    b1 = np.zeros((150, 1))\n",
    "\n",
    "    w2 = np.random.standard_normal(size=(60, 150))\n",
    "    b2 = np.zeros((60, 1))\n",
    "\n",
    "    w3 = np.random.standard_normal(size=(5, 60))\n",
    "    b3 = np.zeros((5, 1))\n",
    "\n",
    "    w = [w1, w2, w3]\n",
    "    bias = [b1, b2, b3]\n",
    "\n",
    "    return w, bias\n",
    "\n",
    "\n",
    "batch_size = 10\n",
    "learning_rate = 1\n",
    "number_of_epochs = 25\n",
    "total_costs = []\n",
    "momentum_factor = 0.1\n",
    "mt_w1 = 0\n",
    "mt_w2 = 0\n",
    "mt_w3 = 0\n",
    "mt_b1 = 0\n",
    "mt_b2 = 0\n",
    "mt_b3 = 0\n",
    "\n",
    "W, b = initialize()\n",
    "for i in range(number_of_epochs):\n",
    "    batches = [train_set[x:x + batch_size] for x in range(0, len(train_set), batch_size)]\n",
    "    for batch in batches:\n",
    "        grad_W1 = np.zeros((150, 103))\n",
    "        grad_b1 = np.zeros((150, 1))\n",
    "\n",
    "        grad_W2 = np.zeros((60, 150))\n",
    "        grad_b2 = np.zeros((60, 1))\n",
    "\n",
    "        grad_W3 = np.zeros((5, 60))\n",
    "        grad_b3 = np.zeros((5, 1))\n",
    "\n",
    "        for image, label in batch:\n",
    "            # Forward propagation\n",
    "            a1 = feedforward(W[0], image, b[0], 'sigmoid')\n",
    "            a2 = feedforward(W[1], a1, b[1], 'sigmoid')\n",
    "            a3 = feedforward(W[2], a2, b[2], 'sigmoid')\n",
    "\n",
    "            z1 = (W[0] @ image) + b[0]\n",
    "            z2 = (W[1] @ a1) + b[1]\n",
    "            z3 = (W[2] @ a2) + b[2]\n",
    "\n",
    "            # Output layer\n",
    "            grad_W3 += (2 * (a3 - label) * derivative_sigmoid(z3)) @ np.transpose(a2)\n",
    "            grad_b3 += 2 * (a3 - label) * derivative_sigmoid(z3)\n",
    "\n",
    "            # Hidden layer 2\n",
    "            grad_a2 = np.zeros((60, 1))\n",
    "            grad_a2 += np.transpose(W[2]) @ (2 * (a3 - label) * derivative_sigmoid(z3))\n",
    "            grad_W2 += (derivative_sigmoid(z2) * grad_a2) @ np.transpose(a1)\n",
    "            grad_b2 += grad_a2 * derivative_sigmoid(z2)\n",
    "\n",
    "            # Hidden layer 1\n",
    "            grad_a1 = np.zeros((150, 1))\n",
    "            grad_a1 += np.transpose(W[1]) @ (grad_a2 * derivative_sigmoid(z2))\n",
    "            grad_W1 += (grad_a1 * derivative_sigmoid(z1)) @ np.transpose(image)\n",
    "            grad_b1 += grad_a1 * derivative_sigmoid(z1)\n",
    "\n",
    "        W[0] -= (learning_rate * (grad_W1 / batch_size) + mt_w1)\n",
    "        W[1] -= (learning_rate * (grad_W2 / batch_size) + mt_w2)\n",
    "        W[2] -= (learning_rate * (grad_W3 / batch_size) + mt_w3)\n",
    "\n",
    "        mt_w1 = (learning_rate * (grad_W1 / batch_size) + mt_w1) * momentum_factor\n",
    "        mt_w2 = (learning_rate * (grad_W2 / batch_size) + mt_w2) * momentum_factor\n",
    "        mt_w3 = (learning_rate * (grad_W3 / batch_size) + mt_w3) * momentum_factor\n",
    "\n",
    "        b[0] -= (learning_rate * (grad_b1 / batch_size) + mt_b1)\n",
    "        b[1] -= (learning_rate * (grad_b2 / batch_size) + mt_b2)\n",
    "        b[2] -= (learning_rate * (grad_b3 / batch_size) + mt_b3)\n",
    "\n",
    "        mt_b1 = (learning_rate * (grad_b1 / batch_size) + mt_b1) * momentum_factor\n",
    "        mt_b2 = (learning_rate * (grad_b2 / batch_size) + mt_b2) * momentum_factor\n",
    "        mt_b3 = (learning_rate * (grad_b3 / batch_size) + mt_b3) * momentum_factor\n",
    "\n",
    "    cost = 0\n",
    "    cost_calculator(train_set, W[0], W[1], W[2], b[0], b[1], b[2], cost)\n"
   ],
   "metadata": {
    "collapsed": false,
    "pycharm": {
     "name": "#%%\n"
    }
   },
   "execution_count": 78,
   "outputs": []
  },
  {
   "cell_type": "code",
   "execution_count": 77,
   "outputs": [
    {
     "name": "stdout",
     "output_type": "stream",
     "text": [
      "Accuracy of our model for train set is: 90.30538051381484\n",
      "Accuracy of our model for test set is: 85.95505617977528\n"
     ]
    },
    {
     "data": {
      "text/plain": "<Figure size 432x288 with 1 Axes>",
      "image/png": "[encoded data removed]"
     },
     "metadata": {
      "needs_background": "light"
     },
     "output_type": "display_data"
    }
   ],
   "source": [
    "epoch_size = [x for x in range(number_of_epochs)]\n",
    "plt.plot(epoch_size, total_costs)\n",
    "print(\n",
    "    f\"Accuracy of our model for train set is: {calculate_accuracy(train_set, W[0], W[1], W[2], b[0], b[1], b[2], len(train_set))}\")\n",
    "print(\n",
    "    f\"Accuracy of our model for test set is: {calculate_accuracy(test_set, W[0], W[1], W[2], b[0], b[1], b[2], len(test_set))}\")"
   ],
   "metadata": {
    "collapsed": false,
    "pycharm": {
     "name": "#%%\n"
    }
   }
  }
 ],
 "metadata": {
  "kernelspec": {
   "display_name": "PyCharm (ANN_Project_Assets)",
   "language": "python",
   "name": "pycharm-b3586fc8"
  },
  "language_info": {
   "codemirror_mode": {
    "name": "ipython",
    "version": 3
   },
   "file_extension": ".py",
   "mimetype": "text/x-python",
   "name": "python",
   "nbconvert_exporter": "python",
   "pygments_lexer": "ipython3",
   "version": "3.8.8"
  }
 },
 "nbformat": 4,
 "nbformat_minor": 4
}
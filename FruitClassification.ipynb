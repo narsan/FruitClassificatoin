{
 "cells": [
  {
   "cell_type": "markdown",
   "metadata": {},
   "source": [
    "## Step One: Reading Fruit Dataset"
   ]
  },
  {
   "cell_type": "code",
   "metadata": {
    "tags": [],
    "pycharm": {
     "name": "#%%\n"
    }
   },
   "source": [
    "from matplotlib import pyplot as plt\n",
    "import numpy as np\n",
    "import random\n",
    "import pickle\n",
    "\n",
    "# loading training set features\n",
    "f = open(\"Datasets/train_set_features.pkl\", \"rb\")\n",
    "train_set_features2 = pickle.load(f)\n",
    "f.close()\n",
    "\n",
    "# reducing feature vector length\n",
    "features_STDs = np.std(a=train_set_features2, axis=0)\n",
    "train_set_features = train_set_features2[:, features_STDs > 52.3]\n",
    "\n",
    "# changing the range of data between 0 and 1\n",
    "train_set_features = np.divide(train_set_features, train_set_features.max())\n",
    "\n",
    "# loading training set labels\n",
    "f = open(\"Datasets/train_set_labels.pkl\", \"rb\")\n",
    "train_set_labels = pickle.load(f)\n",
    "f.close()\n",
    "\n",
    "# ------------\n",
    "# loading test set features\n",
    "f = open(\"Datasets/test_set_features.pkl\", \"rb\")\n",
    "test_set_features2 = pickle.load(f)\n",
    "f.close()\n",
    "\n",
    "# reducing feature vector length\n",
    "features_STDs = np.std(a=test_set_features2, axis=0)\n",
    "test_set_features = test_set_features2[:, features_STDs > 48]\n",
    "\n",
    "# changing the range of data between 0 and 1\n",
    "test_set_features = np.divide(test_set_features, test_set_features.max())\n",
    "\n",
    "# loading test set labels\n",
    "f = open(\"Datasets/test_set_labels.pkl\", \"rb\")\n",
    "test_set_labels = pickle.load(f)\n",
    "f.close()\n",
    "\n",
    "# ------------\n",
    "# preparing our training and test sets - joining datasets and lables\n",
    "train_set = []\n",
    "test_set = []\n",
    "\n",
    "for i in range(len(train_set_features)):\n",
    "    label = np.array([0, 0, 0, 0])\n",
    "    label[int(train_set_labels[i])] = 1\n",
    "    label = label.reshape(4, 1)\n",
    "    train_set.append((train_set_features[i].reshape(102, 1), label))\n",
    "\n",
    "for i in range(len(test_set_features)):\n",
    "    label = np.array([0, 0, 0, 0])\n",
    "    label[int(test_set_labels[i])] = 1\n",
    "    label = label.reshape(4, 1)\n",
    "    test_set.append((test_set_features[i].reshape(102, 1), label))\n",
    "\n",
    "# shuffle\n",
    "random.shuffle(train_set)\n",
    "random.shuffle(test_set)"
   ],
   "execution_count": 152,
   "outputs": []
  },
  {
   "cell_type": "markdown",
   "metadata": {},
   "source": [
    "## Needed Functions"
   ]
  },
  {
   "cell_type": "code",
   "execution_count": 153,
   "metadata": {},
   "outputs": [],
   "source": [
    "def sigmoid(x):\n",
    "    return 1 / (1 + np.exp(-x))\n",
    "\n",
    "\n",
    "def derivative_sigmoid(x):\n",
    "    return sigmoid(x) * (1 - sigmoid(x))\n",
    "\n",
    "def feedforward(w, a, bias, activation_func):\n",
    "  z = (w @ a) + bias\n",
    "  if activation_func == 'sigmoid':\n",
    "    return sigmoid(z)\n",
    "\n",
    "def cost_calculator(dataset, w1 , w2 , w3 , b1 , b2 , b3 , c):\n",
    "    for trainData in dataset:\n",
    "        a_0 = trainData[0]\n",
    "        a_1 = feedforward(w1 , a_0 , b1, 'sigmoid')\n",
    "        a_2 = feedforward(w2 , a_1 , b2, 'sigmoid')\n",
    "        a_3 = feedforward(w3 , a_2 , b3, 'sigmoid')\n",
    "\n",
    "        for j in range(4):\n",
    "            c += np.power((a_3[j, 0] - trainData[1][j,  0]), 2)\n",
    "    c/=100\n",
    "    total_costs.append(c)\n",
    "\n",
    "def calculate_accuracy(dataset ,w1 , w2, w3, b1, b2, b3,total_num):\n",
    "    correct_guesses = 0\n",
    "    for trainData in dataset:\n",
    "        a_0 = trainData[0]\n",
    "        a_1 = feedforward(w1 , a_0 , b1, 'sigmoid')\n",
    "        a_2 = feedforward(w2 , a_1 , b2, 'sigmoid')\n",
    "        a_3 = feedforward(w3 , a_2 , b3, 'sigmoid')\n",
    "\n",
    "        predicted_label = np.argmax(a_3 , axis=0)\n",
    "        real_label = np.argmax(trainData[1], axis=0)\n",
    "\n",
    "\n",
    "        if predicted_label[0] == real_label[0]:\n",
    "            correct_guesses  += 1\n",
    "    accuracy = (correct_guesses  / total_num) * 100\n",
    "    return accuracy\n",
    "\n",
    "def initialize():\n",
    "    w1 = np.random.standard_normal(size=(150, 102))\n",
    "    b1 = np.zeros((150, 1))\n",
    "\n",
    "    w2 = np.random.standard_normal(size=(60, 150))\n",
    "    b2 = np.zeros((60, 1))\n",
    "\n",
    "    w3 = np.random.standard_normal(size=(4, 60))\n",
    "    b3 = np.zeros((4, 1))\n",
    "\n",
    "    w = [w1, w2, w3]\n",
    "    bias = [b1, b2, b3]\n",
    "\n",
    "    return w, bias"
   ]
  },
  {
   "cell_type": "markdown",
   "metadata": {},
   "source": [
    "## Step Two: Feedforward"
   ]
  },
  {
   "cell_type": "code",
   "execution_count": 154,
   "metadata": {
    "collapsed": false,
    "jupyter": {
     "outputs_hidden": false
    },
    "pycharm": {
     "name": "#%%\n"
    }
   },
   "outputs": [
    {
     "name": "stdout",
     "output_type": "stream",
     "text": [
      "Accuracy: 24.0\n"
     ]
    }
   ],
   "source": [
    "W_1 = np.random.normal(size=(150, 102))\n",
    "W_2 = np.random.normal(size=(60, 150))\n",
    "W_3 = np.random.normal(size=(4, 60))\n",
    "b_1 = np.zeros((150, 1))\n",
    "b_2 = np.zeros((60, 1))\n",
    "b_3 = np.zeros((4, 1))\n",
    "\n",
    "number_of_samples = 200\n",
    "train_sample_200 = random.sample(train_set, number_of_samples)\n",
    "print(f\"Accuracy: {calculate_accuracy(train_sample_200 , W_1 ,W_2, W_3, b_1,b_2,b_3, number_of_samples)}\")"
   ]
  },
  {
   "cell_type": "markdown",
   "metadata": {},
   "source": [
    "## Step Three: Backpropagation"
   ]
  },
  {
   "cell_type": "code",
   "execution_count": 161,
   "metadata": {
    "collapsed": false,
    "jupyter": {
     "outputs_hidden": false
    },
    "pycharm": {
     "name": "#%%\n"
    }
   },
   "outputs": [
    {
     "name": "stdout",
     "output_type": "stream",
     "text": [
      "CPU times: user 6min 14s, sys: 4.58 s, total: 6min 18s\n",
      "Wall time: 4min 5s\n"
     ]
    }
   ],
   "source": [
    "%%time\n",
    "\n",
    "batch_size = 10\n",
    "learning_rate = 1\n",
    "number_of_epochs = 5\n",
    "\n",
    "W, b = initialize()\n",
    "total_costs = []\n",
    "for i in range(number_of_epochs):\n",
    "    batches = [train_set[x:x + batch_size] for x in range(0, number_of_samples, batch_size)]\n",
    "    for batch in batches:\n",
    "        grad_W1 = np.zeros((150, 102))\n",
    "        grad_b1 = np.zeros((150, 1))\n",
    "\n",
    "        grad_W2 = np.zeros((60, 150))\n",
    "        grad_b2 = np.zeros((60, 1))\n",
    "\n",
    "        grad_W3 = np.zeros((4, 60))\n",
    "        grad_b3 = np.zeros((4, 1))\n",
    "\n",
    "        for image, label in batch:\n",
    "            # forward propagation\n",
    "            a1 = feedforward(W[0] , image , b[0], 'sigmoid')\n",
    "            a2 = feedforward(W[1] , a1 , b[1], 'sigmoid')\n",
    "            a3 = feedforward(W[2] , a2 , b[2], 'sigmoid')\n",
    "\n",
    "            z1 = (W[0] @ image) + b[0]\n",
    "            z2 = (W[1] @ a1) + b[1]\n",
    "            z3 = (W[2] @ a2) + b[2]\n",
    "\n",
    "            # Output layer\n",
    "            for j in range(grad_W3.shape[0]):\n",
    "                for k in range(grad_W3.shape[1]):\n",
    "                    grad_W3[j, k] += 2 * (a3[j, 0] - label[j, 0]) * derivative_sigmoid(z3[j,0]) * a2[k, 0]\n",
    "\n",
    "            for j in range(grad_b3.shape[0]):\n",
    "                grad_b3[j, 0] += 2 * (a3[j, 0] - label[j, 0]) * derivative_sigmoid(z3[j,0])\n",
    "\n",
    "            # Hidden layer 2\n",
    "            grad_a2 = np.zeros((60, 1))\n",
    "            for k in range(60):\n",
    "                for j in range(4):\n",
    "                    grad_a2[k, 0] += 2 * (a3[j, 0] - label[j, 0]) * derivative_sigmoid(z3[j,0]) * W[2][j, k]\n",
    "\n",
    "            for k in range(grad_W2.shape[0]):\n",
    "                for m in range(grad_W2.shape[1]):\n",
    "                    grad_W2[k, m] += grad_a2[k, 0] * derivative_sigmoid(z2[k,0]) * a1[m, 0]\n",
    "\n",
    "            for k in range(grad_b2.shape[0]):\n",
    "                grad_b2[k, 0] += grad_a2[k, 0] *  derivative_sigmoid(z2[k,0])\n",
    "\n",
    "            # Hidden layer 1\n",
    "            grad_a1 = np.zeros((150, 1))\n",
    "            for m in range(150):\n",
    "                for k in range(60):\n",
    "                    grad_a1[m, 0] += grad_a2[k, 0] * derivative_sigmoid(z2[k,0]) * W[1][k, m]\n",
    "\n",
    "            for m in range(grad_W1.shape[0]):\n",
    "                for v in range(grad_W1.shape[1]):\n",
    "                    grad_W1[m, v] += grad_a1[m, 0] * derivative_sigmoid(z1[m,0]) * image[v, 0]\n",
    "\n",
    "            for m in range(grad_b1.shape[0]):\n",
    "                grad_b1[m, 0] += grad_a1[m, 0] * derivative_sigmoid(z1[m,0])\n",
    "\n",
    "        W[0] -= (learning_rate * (grad_W1 / batch_size))\n",
    "        W[1] -= (learning_rate * (grad_W2 / batch_size))\n",
    "        W[2] -= (learning_rate * (grad_W3 / batch_size))\n",
    "\n",
    "        b[0] -= (learning_rate * (grad_b1 / batch_size))\n",
    "        b[1] -= (learning_rate * (grad_b2 / batch_size))\n",
    "        b[2] -= (learning_rate * (grad_b3 / batch_size))\n",
    "\n",
    "    cost = 0\n",
    "    cost_calculator(train_sample_200, W[0] , W[1] , W[2] , b[0] ,b[1] , b[2] , cost)"
   ]
  },
  {
   "cell_type": "code",
   "execution_count": 162,
   "metadata": {
    "collapsed": false,
    "jupyter": {
     "outputs_hidden": false
    },
    "pycharm": {
     "name": "#%%\n"
    }
   },
   "outputs": [
    {
     "name": "stdout",
     "output_type": "stream",
     "text": [
      "Accuracy: 71.0\n"
     ]
    },
    {
     "data": {
      "text/plain": "<Figure size 432x288 with 1 Axes>",
      "image/png": "[encoded data removed]"
     },
     "metadata": {
      "needs_background": "light"
     },
     "output_type": "display_data"
    }
   ],
   "source": [
    "epoch_size = [x for x in range(number_of_epochs)]\n",
    "plt.plot(epoch_size, total_costs)\n",
    "print(f\"Accuracy: {calculate_accuracy(train_sample_200, W[0] , W[1] , W[2] , b[0] ,b[1] , b[2],number_of_samples)}\")"
   ]
  },
  {
   "cell_type": "markdown",
   "metadata": {},
   "source": [
    "## Step Four: Vectorization"
   ]
  },
  {
   "cell_type": "code",
   "execution_count": 157,
   "metadata": {
    "collapsed": false,
    "jupyter": {
     "outputs_hidden": false
    },
    "pycharm": {
     "name": "#%%\n"
    }
   },
   "outputs": [
    {
     "name": "stdout",
     "output_type": "stream",
     "text": [
      "CPU times: user 33.1 s, sys: 598 ms, total: 33.7 s\n",
      "Wall time: 19.9 s\n"
     ]
    }
   ],
   "source": [
    "%%time\n",
    "batch_size = 10\n",
    "learning_rate = 1\n",
    "number_of_epochs = 20\n",
    "W, b = initialize()\n",
    "total_costs = []\n",
    "for i in range(number_of_epochs):\n",
    "    batches = [train_set[x:x + batch_size] for x in range(0, len(train_set), batch_size)]\n",
    "    for batch in batches:\n",
    "        grad_W1 = np.zeros((150, 102))\n",
    "        grad_b1 = np.zeros((150, 1))\n",
    "\n",
    "        grad_W2 = np.zeros((60, 150))\n",
    "        grad_b2 = np.zeros((60, 1))\n",
    "\n",
    "        grad_W3 = np.zeros((4, 60))\n",
    "        grad_b3 = np.zeros((4, 1))\n",
    "\n",
    "        for image, label in batch:\n",
    "            # Forward propagation\n",
    "            a1 = feedforward(W[0] , image , b[0], 'sigmoid')\n",
    "            a2 = feedforward(W[1] , a1 , b[1], 'sigmoid')\n",
    "            a3 = feedforward(W[2] , a2 , b[2], 'sigmoid')\n",
    "\n",
    "            z1 = (W[0] @ image) + b[0]\n",
    "            z2 = (W[1] @ a1) + b[1]\n",
    "            z3 = (W[2] @ a2) + b[2]\n",
    "\n",
    "            # Output layer\n",
    "            grad_W3 += (2 * (a3 - label) * derivative_sigmoid(z3)) @ np.transpose(a2)\n",
    "            grad_b3 += 2 * (a3 - label) * derivative_sigmoid(z3)\n",
    "\n",
    "            # Hidden layer 2\n",
    "            grad_a2 = np.zeros((60, 1))\n",
    "            grad_a2 += np.transpose(W[2]) @ (2 *(a3 - label) * derivative_sigmoid(z3))\n",
    "            grad_W2 += (derivative_sigmoid(z2) * grad_a2) @ np.transpose(a1)\n",
    "            grad_b2 += grad_a2 * derivative_sigmoid(z2)\n",
    "\n",
    "            # Hidden layer 1\n",
    "            grad_a1 = np.zeros((150, 1))\n",
    "            grad_a1 += np.transpose(W[1]) @ (grad_a2 * derivative_sigmoid(z2))\n",
    "            grad_W1 += (grad_a1 * derivative_sigmoid(z1)) @ np.transpose(image)\n",
    "            grad_b1 += grad_a1 * derivative_sigmoid(z1)\n",
    "\n",
    "        W[0] -= (learning_rate * (grad_W1 / batch_size))\n",
    "        W[1] -= (learning_rate * (grad_W2 / batch_size))\n",
    "        W[2] -= (learning_rate * (grad_W3 / batch_size))\n",
    "\n",
    "        b[0] -= (learning_rate * (grad_b1 / batch_size))\n",
    "        b[1] -= (learning_rate * (grad_b2 / batch_size))\n",
    "        b[2] -= (learning_rate * (grad_b3 / batch_size))\n",
    "    cost = 0\n",
    "    cost_calculator(train_set, W[0] , W[1] , W[2] , b[0] ,b[1] , b[2] , cost)"
   ]
  },
  {
   "cell_type": "code",
   "execution_count": 158,
   "metadata": {
    "collapsed": false,
    "jupyter": {
     "outputs_hidden": false
    },
    "pycharm": {
     "name": "#%%\n"
    }
   },
   "outputs": [
    {
     "name": "stdout",
     "output_type": "stream",
     "text": [
      "Accuracy: 100.0\n"
     ]
    },
    {
     "data": {
      "text/plain": "<Figure size 432x288 with 1 Axes>",
      "image/png": "[encoded data removed]"
     },
     "metadata": {
      "needs_background": "light"
     },
     "output_type": "display_data"
    }
   ],
   "source": [
    "epoch_size = [x for x in range(number_of_epochs)]\n",
    "plt.plot(epoch_size, total_costs)\n",
    "print(f\"Accuracy: {calculate_accuracy(train_set, W[0] , W[1] , W[2] , b[0] ,b[1] , b[2],len(train_set))}\")"
   ]
  },
  {
   "cell_type": "markdown",
   "source": [
    "## Step Five: Testing the Model\n"
   ],
   "metadata": {
    "collapsed": false,
    "pycharm": {
     "name": "#%% md\n"
    }
   }
  },
  {
   "cell_type": "code",
   "execution_count": 163,
   "outputs": [
    {
     "name": "stdout",
     "output_type": "stream",
     "text": [
      "CPU times: user 33.3 s, sys: 620 ms, total: 34 s\n",
      "Wall time: 22.5 s\n"
     ]
    }
   ],
   "source": [
    "%%time\n",
    "batch_size = 10\n",
    "learning_rate = 1\n",
    "number_of_epochs = 20\n",
    "W, b = initialize()\n",
    "total_costs = []\n",
    "for i in range(number_of_epochs):\n",
    "    batches = [train_set[x:x + batch_size] for x in range(0, len(train_set), batch_size)]\n",
    "    for batch in batches:\n",
    "        grad_W1 = np.zeros((150, 102))\n",
    "        grad_b1 = np.zeros((150, 1))\n",
    "\n",
    "        grad_W2 = np.zeros((60, 150))\n",
    "        grad_b2 = np.zeros((60, 1))\n",
    "\n",
    "        grad_W3 = np.zeros((4, 60))\n",
    "        grad_b3 = np.zeros((4, 1))\n",
    "\n",
    "        for image, label in batch:\n",
    "            # Forward propagation\n",
    "            a1 = feedforward(W[0] , image , b[0], 'sigmoid')\n",
    "            a2 = feedforward(W[1] , a1 , b[1], 'sigmoid')\n",
    "            a3 = feedforward(W[2] , a2 , b[2], 'sigmoid')\n",
    "\n",
    "            z1 = (W[0] @ image) + b[0]\n",
    "            z2 = (W[1] @ a1) + b[1]\n",
    "            z3 = (W[2] @ a2) + b[2]\n",
    "\n",
    "            # Output layer\n",
    "            grad_W3 += (2 * (a3 - label) * derivative_sigmoid(z3)) @ np.transpose(a2)\n",
    "            grad_b3 += 2 * (a3 - label) * derivative_sigmoid(z3)\n",
    "\n",
    "            # Hidden layer 2\n",
    "            grad_a2 = np.zeros((60, 1))\n",
    "            grad_a2 += np.transpose(W[2]) @ (2 *(a3 - label) * derivative_sigmoid(z3))\n",
    "            grad_W2 += (derivative_sigmoid(z2) * grad_a2) @ np.transpose(a1)\n",
    "            grad_b2 += grad_a2 * derivative_sigmoid(z2)\n",
    "\n",
    "            # Hidden layer 1\n",
    "            grad_a1 = np.zeros((150, 1))\n",
    "            grad_a1 += np.transpose(W[1]) @ (grad_a2 * derivative_sigmoid(z2))\n",
    "            grad_W1 += (grad_a1 * derivative_sigmoid(z1)) @ np.transpose(image)\n",
    "            grad_b1 += grad_a1 * derivative_sigmoid(z1)\n",
    "\n",
    "        W[0] -= (learning_rate * (grad_W1 / batch_size))\n",
    "        W[1] -= (learning_rate * (grad_W2 / batch_size))\n",
    "        W[2] -= (learning_rate * (grad_W3 / batch_size))\n",
    "\n",
    "        b[0] -= (learning_rate * (grad_b1 / batch_size))\n",
    "        b[1] -= (learning_rate * (grad_b2 / batch_size))\n",
    "        b[2] -= (learning_rate * (grad_b3 / batch_size))\n",
    "    cost = 0\n",
    "    cost_calculator(train_set, W[0] , W[1] , W[2] , b[0] ,b[1] , b[2] , cost)"
   ],
   "metadata": {
    "collapsed": false,
    "pycharm": {
     "name": "#%%\n"
    }
   }
  },
  {
   "cell_type": "code",
   "execution_count": 164,
   "outputs": [
    {
     "name": "stdout",
     "output_type": "stream",
     "text": [
      "Accuracy of our model for train set is: 100.0\n",
      "Accuracy of our model for test set is: 100.0\n"
     ]
    },
    {
     "data": {
      "text/plain": "<Figure size 432x288 with 1 Axes>",
      "image/png": "[encoded data removed]"
     },
     "metadata": {
      "needs_background": "light"
     },
     "output_type": "display_data"
    }
   ],
   "source": [
    "epoch_size = [x for x in range(number_of_epochs)]\n",
    "plt.plot(epoch_size, total_costs)\n",
    "print(f\"Accuracy of our model for train set is: {calculate_accuracy(train_set, W[0] , W[1] , W[2] , b[0] ,b[1] , b[2],len(train_set))}\")\n",
    "print(f\"Accuracy of our model for test set is: {calculate_accuracy(test_set, W[0] , W[1] , W[2] , b[0] ,b[1] , b[2],len(test_set))}\")"
   ],
   "metadata": {
    "collapsed": false,
    "pycharm": {
     "name": "#%%\n"
    }
   }
  }
 ],
 "metadata": {
  "kernelspec": {
   "display_name": "PyCharm (ANN_Project_Assets)",
   "language": "python",
   "name": "pycharm-b3586fc8"
  },
  "language_info": {
   "codemirror_mode": {
    "name": "ipython",
    "version": 3
   },
   "file_extension": ".py",
   "mimetype": "text/x-python",
   "name": "python",
   "nbconvert_exporter": "python",
   "pygments_lexer": "ipython3",
   "version": "3.8.8"
  }
 },
 "nbformat": 4,
 "nbformat_minor": 4
}